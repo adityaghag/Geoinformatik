{
 "cells": [
  {
   "cell_type": "code",
   "execution_count": 1,
   "metadata": {},
   "outputs": [],
   "source": [
    "from datetime import datetime\n",
    "import pandas as pd\n",
    "import os\n",
    "import numpy as np"
   ]
  },
  {
   "cell_type": "code",
   "execution_count": 18,
   "metadata": {},
   "outputs": [],
   "source": [
    "STN1590 = pd.read_csv(\"C:/Users/ASUS/Desktop/GeoInformatics/Materials_Used/Import_/produkt_klima_tag_19631001_20181231_01590.txt\", sep = ';', engine = 'python')\n",
    "STN2629 = pd.read_csv(\"C:/Users/ASUS/Desktop/GeoInformatics/Materials_Used/Import_/produkt_klima_tag_19471111_20181231_02629.txt\", sep = ';', engine = 'python')\n",
    "STN13670 = pd.read_csv(\"C:/Users/ASUS/Desktop/GeoInformatics/Materials_Used/Import_/produkt_klima_tag_20070531_20181231_13670.txt\", sep = ';', engine = 'python')\n",
    "STN5064 = pd.read_csv(\"C:/Users/ASUS/Desktop/GeoInformatics/Materials_Used/Import_/produkt_klima_tag_20041201_20181231_05064.txt\", sep = ';', engine = 'python')\n",
    "STN1078 = pd.read_csv(\"C:/Users/ASUS/Desktop/GeoInformatics/Materials_Used/Import_/produkt_klima_tag_19520101_20181231_01078.txt\", sep = ';', engine = 'python')\n",
    "STN1303 = pd.read_csv(\"C:/Users/ASUS/Desktop/GeoInformatics/Materials_Used/Import_/produkt_klima_tag_19350101_20181231_01303.txt\", sep = ';', engine = 'python')\n",
    "\n",
    "\n",
    "STN1590 = STN1590[['MESS_DATUM',\" RSK\", \" TMK\"]]\n",
    "STN2629 = STN2629[['MESS_DATUM',\" RSK\", \" TMK\"]]\n",
    "STN13670 = STN13670[['MESS_DATUM',\" RSK\", \" TMK\"]]\n",
    "STN5064 = STN5064[['MESS_DATUM',\" RSK\", \" TMK\"]]\n",
    "STN1078 = STN1078[['MESS_DATUM',\" RSK\", \" TMK\"]]\n",
    "STN1303 = STN1303[['MESS_DATUM',\" RSK\", \" TMK\"]]\n",
    "\n",
    "STN1590['MESS_DATUM'] = pd.to_datetime(STN1590['MESS_DATUM'], format = '%Y%m%d')\n",
    "STN2629['MESS_DATUM'] = pd.to_datetime(STN2629['MESS_DATUM'], format = '%Y%m%d')\n",
    "STN13670['MESS_DATUM'] = pd.to_datetime(STN13670['MESS_DATUM'], format = '%Y%m%d')\n",
    "STN5064['MESS_DATUM'] = pd.to_datetime(STN5064['MESS_DATUM'], format = '%Y%m%d')\n",
    "STN1078['MESS_DATUM'] = pd.to_datetime(STN1078['MESS_DATUM'], format = '%Y%m%d')\n",
    "STN1303['MESS_DATUM'] = pd.to_datetime(STN1303['MESS_DATUM'], format = '%Y%m%d')\n",
    "\n",
    "STN1590 = STN1590[(STN1590[\" TMK\"] != -999) & (STN1590[\" RSK\"] != -999)]\n",
    "STN2629 = STN2629[(STN2629[\" TMK\"] != -999) & (STN2629[\" RSK\"] != -999)]\n",
    "STN13670 = STN13670[(STN13670[\" TMK\"] != -999) & (STN13670[\" RSK\"] != -999)]\n",
    "STN5064 = STN5064[(STN5064[\" TMK\"] != -999) & (STN5064[\" RSK\"] != -999)]\n",
    "STN1078 = STN1078[(STN1078[\" TMK\"] != -999) & (STN1078[\" RSK\"] != -999)]\n",
    "STN1303 = STN1303[(STN1303[\" TMK\"] != -999) & (STN1303[\" RSK\"] != -999)]"
   ]
  },
  {
   "cell_type": "code",
   "execution_count": 19,
   "metadata": {},
   "outputs": [],
   "source": [
    "# Dataset for 2015-2016\n",
    "start_date_1516 = pd.Timestamp(\"20160101\")\n",
    "end_date_1516 = pd.Timestamp(\"20161201\")\n",
    "\n",
    "STN1590_1516 = STN1590[(STN1590['MESS_DATUM'] > start_date_1516) & (STN1590['MESS_DATUM'] < end_date_1516)]\n",
    "STN2629_1516 = STN2629[(STN2629['MESS_DATUM'] > start_date_1516) & (STN2629['MESS_DATUM'] < end_date_1516)]\n",
    "STN13670_1516 = STN13670[(STN13670['MESS_DATUM'] > start_date_1516) & (STN13670['MESS_DATUM'] < end_date_1516)]\n",
    "STN5064_1516 = STN5064[(STN5064['MESS_DATUM'] > start_date_1516) & (STN5064['MESS_DATUM'] < end_date_1516)]\n",
    "STN1078_1516 = STN1078[(STN1078['MESS_DATUM'] > start_date_1516) & (STN1078['MESS_DATUM'] < end_date_1516)]\n",
    "STN1303_1516 = STN1303[(STN1303['MESS_DATUM'] > start_date_1516) & (STN1303['MESS_DATUM'] < end_date_1516)]"
   ]
  },
  {
   "cell_type": "code",
   "execution_count": 20,
   "metadata": {},
   "outputs": [],
   "source": [
    "# Dataset for 2016-2017\n",
    "start_date_1617 = pd.Timestamp(\"20170101\")\n",
    "end_date_1617 = pd.Timestamp(\"20171201\")\n",
    "\n",
    "STN1590_1617 = STN1590[(STN1590['MESS_DATUM'] > start_date_1617) & (STN1590['MESS_DATUM'] < end_date_1617)]\n",
    "STN2629_1617 = STN2629[(STN2629['MESS_DATUM'] > start_date_1617) & (STN2629['MESS_DATUM'] < end_date_1617)]\n",
    "STN13670_1617 = STN13670[(STN13670['MESS_DATUM'] > start_date_1617) & (STN13670['MESS_DATUM'] < end_date_1617)]\n",
    "STN5064_1617 = STN5064[(STN5064['MESS_DATUM'] > start_date_1617) & (STN5064['MESS_DATUM'] < end_date_1617)]\n",
    "STN1078_1617 = STN1078[(STN1078['MESS_DATUM'] > start_date_1617) & (STN1078['MESS_DATUM'] < end_date_1617)]\n",
    "STN1303_1617 = STN1303[(STN1303['MESS_DATUM'] > start_date_1617) & (STN1303['MESS_DATUM'] < end_date_1617)]"
   ]
  },
  {
   "cell_type": "code",
   "execution_count": 21,
   "metadata": {},
   "outputs": [],
   "source": [
    "# Dataset for 2017-2018\n",
    "start_date_1718 = pd.Timestamp(\"20180101\")\n",
    "end_date_1718 = pd.Timestamp(\"20181201\")\n",
    "\n",
    "STN1590_1718 = STN1590[(STN1590['MESS_DATUM'] > start_date_1718) & (STN1590['MESS_DATUM'] < end_date_1718)]\n",
    "STN2629_1718 = STN2629[(STN2629['MESS_DATUM'] > start_date_1718) & (STN2629['MESS_DATUM'] < end_date_1718)]\n",
    "STN13670_1718 = STN13670[(STN13670['MESS_DATUM'] > start_date_1718) & (STN13670['MESS_DATUM'] < end_date_1718)]\n",
    "STN5064_1718 = STN5064[(STN5064['MESS_DATUM'] > start_date_1718) & (STN5064['MESS_DATUM'] < end_date_1718)]\n",
    "STN1078_1718 = STN1078[(STN1078['MESS_DATUM'] > start_date_1718) & (STN1078['MESS_DATUM'] < end_date_1718)]\n",
    "STN1303_1718 = STN1303[(STN1303['MESS_DATUM'] > start_date_1718) & (STN1303['MESS_DATUM'] < end_date_1718)]\n"
   ]
  },
  {
   "cell_type": "code",
   "execution_count": 22,
   "metadata": {},
   "outputs": [],
   "source": [
    "# Mean temperatures for 2015-2016\n",
    "Mean_Temp_STN1590_1516 = STN1590_1516[\" TMK\"].mean()\n",
    "Mean_Temp_STN2629_1516 = STN2629_1516[\" TMK\"].mean()\n",
    "Mean_Temp_STN13670_1516 = STN13670_1516[\" TMK\"].mean()\n",
    "Mean_Temp_STN5064_1516 = STN5064_1516[\" TMK\"].mean()\n",
    "Mean_Temp_STN1078_1516 = STN1078_1516[\" TMK\"].mean()\n",
    "Mean_Temp_STN1303_1516 = STN1303_1516[\" TMK\"].mean()\n"
   ]
  },
  {
   "cell_type": "code",
   "execution_count": 23,
   "metadata": {},
   "outputs": [],
   "source": [
    "# Mean temperatures for 2016-2017\n",
    "Mean_Temp_STN1590_1617 = STN1590_1617[\" TMK\"].mean()\n",
    "Mean_Temp_STN2629_1617 = STN2629_1617[\" TMK\"].mean()\n",
    "Mean_Temp_STN13670_1617 = STN13670_1617[\" TMK\"].mean()\n",
    "Mean_Temp_STN5064_1617 = STN5064_1617[\" TMK\"].mean()\n",
    "Mean_Temp_STN1078_1617 = STN1078_1617[\" TMK\"].mean()\n",
    "Mean_Temp_STN1303_1617 = STN1303_1617[\" TMK\"].mean()"
   ]
  },
  {
   "cell_type": "code",
   "execution_count": 24,
   "metadata": {},
   "outputs": [],
   "source": [
    "# Mean temperatures for 2017-2018\n",
    "Mean_Temp_STN1590_1718 = STN1590_1718[\" TMK\"].mean()\n",
    "Mean_Temp_STN2629_1718 = STN2629_1718[\" TMK\"].mean()\n",
    "Mean_Temp_STN13670_1718 = STN13670_1718[\" TMK\"].mean()\n",
    "Mean_Temp_STN5064_1718 = STN5064_1718[\" TMK\"].mean()\n",
    "Mean_Temp_STN1078_1718 = STN1078_1718[\" TMK\"].mean()\n",
    "Mean_Temp_STN1303_1718 = STN1303_1718[\" TMK\"].mean()"
   ]
  },
  {
   "cell_type": "code",
   "execution_count": 25,
   "metadata": {},
   "outputs": [],
   "source": [
    "# Mean Precepitation for 2015-2016\n",
    "Mean_Precep_STN1590_1516 = STN1590_1516[\" RSK\"].mean()\n",
    "Mean_Precep_STN2629_1516 = STN2629_1516[\" RSK\"].mean()\n",
    "Mean_Precep_STN13670_1516 = STN13670_1516[\" RSK\"].mean()\n",
    "Mean_Precep_STN5064_1516 = STN5064_1516[\" RSK\"].mean()\n",
    "Mean_Precep_STN1078_1516 = STN1078_1516[\" RSK\"].mean()\n",
    "Mean_Precep_STN1303_1516 = STN1303_1516[\" RSK\"].mean()\n"
   ]
  },
  {
   "cell_type": "code",
   "execution_count": 26,
   "metadata": {},
   "outputs": [],
   "source": [
    "# Mean temperatures for 2016-2017\n",
    "Mean_Precep_STN1590_1617 = STN1590_1617[\" RSK\"].mean()\n",
    "Mean_Precep_STN2629_1617 = STN2629_1617[\" RSK\"].mean()\n",
    "Mean_Precep_STN13670_1617 = STN13670_1617[\" RSK\"].mean()\n",
    "Mean_Precep_STN5064_1617 = STN5064_1617[\" RSK\"].mean()\n",
    "Mean_Precep_STN1078_1617 = STN1078_1617[\" RSK\"].mean()\n",
    "Mean_Precep_STN1303_1617 = STN1303_1617[\" RSK\"].mean()"
   ]
  },
  {
   "cell_type": "code",
   "execution_count": 27,
   "metadata": {},
   "outputs": [],
   "source": [
    "# Mean temperatures for 2017-2018\n",
    "Mean_Precep_STN1590_1718 = STN1590_1718[\" RSK\"].mean()\n",
    "Mean_Precep_STN2629_1718 = STN2629_1718[\" RSK\"].mean()\n",
    "Mean_Precep_STN13670_1718 = STN13670_1718[\" RSK\"].mean()\n",
    "Mean_Precep_STN5064_1718 = STN5064_1718[\" RSK\"].mean()\n",
    "Mean_Precep_STN1078_1718 = STN1078_1718[\" RSK\"].mean()\n",
    "Mean_Precep_STN1303_1718 = STN1303_1718[\" RSK\"].mean()"
   ]
  },
  {
   "cell_type": "code",
   "execution_count": 28,
   "metadata": {},
   "outputs": [],
   "source": [
    "weights = [1.0, 0.938024, 0.910457, 0.541704, 0.474021, 0.468838]"
   ]
  },
  {
   "cell_type": "code",
   "execution_count": 29,
   "metadata": {},
   "outputs": [],
   "source": [
    "Interpolated_temp_1516 = (weights[0] * Mean_Temp_STN1590_1516 + weights[1] * Mean_Temp_STN2629_1516 + weights[2] * Mean_Temp_STN13670_1516 + weights[3] * Mean_Temp_STN5064_1516 + weights[4] * Mean_Temp_STN1078_1516 + weights[5] * Mean_Temp_STN1303_1516) / sum(weights)\n",
    "Interpolated_temp_1617 = (weights[0] * Mean_Temp_STN1590_1617 + weights[1] * Mean_Temp_STN2629_1617 + weights[2] * Mean_Temp_STN13670_1617 + weights[3] * Mean_Temp_STN5064_1617 + weights[4] * Mean_Temp_STN1078_1617 + weights[5] * Mean_Temp_STN1303_1617) / sum(weights)\n",
    "Interpolated_temp_1718 = (weights[0] * Mean_Temp_STN1590_1718 + weights[1] * Mean_Temp_STN2629_1718 + weights[2] * Mean_Temp_STN13670_1718 + weights[3] * Mean_Temp_STN5064_1718 + weights[4] * Mean_Temp_STN1078_1718 + weights[5] * Mean_Temp_STN1303_1718) / sum(weights)"
   ]
  },
  {
   "cell_type": "code",
   "execution_count": 30,
   "metadata": {},
   "outputs": [],
   "source": [
    "Interpolated_Precep_1516 = (weights[0] * Mean_Precep_STN1590_1516 + weights[1] * Mean_Precep_STN2629_1516 + weights[2] * Mean_Precep_STN13670_1516 + weights[3] * Mean_Precep_STN5064_1516 + weights[4] * Mean_Precep_STN1078_1516 + weights[5] * Mean_Precep_STN1303_1516) / sum(weights)\n",
    "Interpolated_Precep_1617 = (weights[0] * Mean_Precep_STN1590_1617 + weights[1] * Mean_Precep_STN2629_1617 + weights[2] * Mean_Precep_STN13670_1617 + weights[3] * Mean_Precep_STN5064_1617 + weights[4] * Mean_Precep_STN1078_1617 + weights[5] * Mean_Precep_STN1303_1617)/ sum(weights)\n",
    "Interpolated_Precep_1718 = (weights[0] * Mean_Precep_STN1590_1718 + weights[1] * Mean_Precep_STN2629_1718 + weights[2] * Mean_Precep_STN13670_1718 + weights[3] * Mean_Precep_STN5064_1718 + weights[4] * Mean_Precep_STN1078_1718 + weights[5] * Mean_Precep_STN1303_1718)/ sum(weights)"
   ]
  },
  {
   "cell_type": "code",
   "execution_count": 31,
   "metadata": {},
   "outputs": [
    {
     "name": "stdout",
     "output_type": "stream",
     "text": [
      "11.616486934974736\n",
      "11.910929788540033\n",
      "12.624912406139696\n"
     ]
    }
   ],
   "source": [
    "print(Interpolated_temp_1516)\n",
    "print(Interpolated_temp_1617)\n",
    "print(Interpolated_temp_1718)\n"
   ]
  },
  {
   "cell_type": "code",
   "execution_count": 32,
   "metadata": {},
   "outputs": [
    {
     "name": "stdout",
     "output_type": "stream",
     "text": [
      "2.2087412988732007\n",
      "2.0088607795692246\n",
      "1.3306737259671593\n"
     ]
    }
   ],
   "source": [
    "print(Interpolated_Precep_1516)\n",
    "print(Interpolated_Precep_1617)\n",
    "print(Interpolated_Precep_1718)"
   ]
  },
  {
   "cell_type": "code",
   "execution_count": null,
   "metadata": {},
   "outputs": [],
   "source": []
  },
  {
   "cell_type": "code",
   "execution_count": null,
   "metadata": {},
   "outputs": [],
   "source": []
  },
  {
   "cell_type": "code",
   "execution_count": null,
   "metadata": {},
   "outputs": [],
   "source": []
  }
 ],
 "metadata": {
  "kernelspec": {
   "display_name": "Python 3",
   "language": "python",
   "name": "python3"
  },
  "language_info": {
   "codemirror_mode": {
    "name": "ipython",
    "version": 3
   },
   "file_extension": ".py",
   "mimetype": "text/x-python",
   "name": "python",
   "nbconvert_exporter": "python",
   "pygments_lexer": "ipython3",
   "version": "3.6.4"
  }
 },
 "nbformat": 4,
 "nbformat_minor": 2
}
